{
 "cells": [
  {
   "cell_type": "markdown",
   "metadata": {},
   "source": [
    "## Coursera Capstone Project — The Battle of Neighbourhoods"
   ]
  },
  {
   "cell_type": "markdown",
   "metadata": {},
   "source": [
    "## Introduction"
   ]
  },
  {
   "cell_type": "markdown",
   "metadata": {},
   "source": [
    "I would like to recoomend **the best place to open a restaurant** in **New Delhi**"
   ]
  },
  {
   "cell_type": "markdown",
   "metadata": {},
   "source": [
    "Restaurants should have **cinema and shopping places near by**. There should **more neighbourhood and also public transport facilities**."
   ]
  },
  {
   "cell_type": "markdown",
   "metadata": {},
   "source": [
    "There **shouldn't be many more restaurant** around the restaurant places so that it wont be overlooked and on the other places it will be more popular."
   ]
  },
  {
   "cell_type": "markdown",
   "metadata": {},
   "source": [
    "## Data"
   ]
  },
  {
   "cell_type": "code",
   "execution_count": 1,
   "metadata": {},
   "outputs": [
    {
     "name": "stdout",
     "output_type": "stream",
     "text": [
      "Collecting package metadata (current_repodata.json): done\n",
      "Solving environment: done\n",
      "\n",
      "# All requested packages already installed.\n",
      "\n",
      "Collecting package metadata (current_repodata.json): done\n",
      "Solving environment: done\n",
      "\n",
      "# All requested packages already installed.\n",
      "\n",
      "Requirement already satisfied: beautifulsoup4 in /home/jupyterlab/conda/envs/python/lib/python3.6/site-packages (4.9.0)\n",
      "Requirement already satisfied: soupsieve>1.2 in /home/jupyterlab/conda/envs/python/lib/python3.6/site-packages (from beautifulsoup4) (2.0)\n",
      "Requirement already satisfied: lxml in /home/jupyterlab/conda/envs/python/lib/python3.6/site-packages (4.5.0)\n",
      "Collecting package metadata (current_repodata.json): done\n",
      "Solving environment: done\n",
      "\n",
      "# All requested packages already installed.\n",
      "\n",
      "Libraries imported.\n"
     ]
    }
   ],
   "source": [
    "import numpy as np # library to handle data in a vectorized manner\n",
    "\n",
    "import pandas as pd # library for data analsysis\n",
    "\n",
    "import json # library to handle JSON files\n",
    "\n",
    "!conda install -c conda-forge geopy --yes\n",
    "from geopy.geocoders import Nominatim # convert an address into latitude and longitude values\n",
    "\n",
    "#import requests # library to handle requests\n",
    "from pandas.io.json import json_normalize # tranform JSON file into a pandas dataframe\n",
    "\n",
    "# Matplotlib and associated plotting modules\n",
    "import matplotlib.cm as cm\n",
    "import matplotlib.colors as colors\n",
    "\n",
    "# import k-means from clustering stage\n",
    "from sklearn.cluster import KMeans\n",
    "\n",
    "!conda install -c conda-forge folium=0.5.0 --yes\n",
    "import folium # map rendering library\n",
    "\n",
    "get_ipython().system(u' pip install beautifulsoup4')\n",
    "from bs4 import BeautifulSoup as bs\n",
    "\n",
    "import requests\n",
    "\n",
    "!pip install lxml\n",
    "\n",
    "!conda install -c conda-forge geocoder --yes\n",
    "\n",
    "print('Libraries imported.')"
   ]
  },
  {
   "cell_type": "markdown",
   "metadata": {},
   "source": [
    "Importing data from a csv file downloaded from net"
   ]
  },
  {
   "cell_type": "code",
   "execution_count": 2,
   "metadata": {},
   "outputs": [
    {
     "data": {
      "text/html": [
       "<div>\n",
       "<style scoped>\n",
       "    .dataframe tbody tr th:only-of-type {\n",
       "        vertical-align: middle;\n",
       "    }\n",
       "\n",
       "    .dataframe tbody tr th {\n",
       "        vertical-align: top;\n",
       "    }\n",
       "\n",
       "    .dataframe thead th {\n",
       "        text-align: right;\n",
       "    }\n",
       "</style>\n",
       "<table border=\"1\" class=\"dataframe\">\n",
       "  <thead>\n",
       "    <tr style=\"text-align: right;\">\n",
       "      <th></th>\n",
       "      <th>key</th>\n",
       "      <th>place_name</th>\n",
       "      <th>admin_name1</th>\n",
       "      <th>latitude</th>\n",
       "      <th>longitude</th>\n",
       "      <th>accuracy</th>\n",
       "    </tr>\n",
       "  </thead>\n",
       "  <tbody>\n",
       "    <tr>\n",
       "      <th>0</th>\n",
       "      <td>IN/110001</td>\n",
       "      <td>Connaught Place</td>\n",
       "      <td>New Delhi</td>\n",
       "      <td>28.6333</td>\n",
       "      <td>77.2167</td>\n",
       "      <td>4.0</td>\n",
       "    </tr>\n",
       "    <tr>\n",
       "      <th>1</th>\n",
       "      <td>IN/110002</td>\n",
       "      <td>Darya Ganj</td>\n",
       "      <td>New Delhi</td>\n",
       "      <td>28.6333</td>\n",
       "      <td>77.2500</td>\n",
       "      <td>4.0</td>\n",
       "    </tr>\n",
       "    <tr>\n",
       "      <th>2</th>\n",
       "      <td>IN/110003</td>\n",
       "      <td>Aliganj</td>\n",
       "      <td>New Delhi</td>\n",
       "      <td>28.6500</td>\n",
       "      <td>77.2167</td>\n",
       "      <td>NaN</td>\n",
       "    </tr>\n",
       "    <tr>\n",
       "      <th>3</th>\n",
       "      <td>IN/110004</td>\n",
       "      <td>Rashtrapati Bhawan</td>\n",
       "      <td>New Delhi</td>\n",
       "      <td>28.6500</td>\n",
       "      <td>77.2167</td>\n",
       "      <td>NaN</td>\n",
       "    </tr>\n",
       "    <tr>\n",
       "      <th>4</th>\n",
       "      <td>IN/110005</td>\n",
       "      <td>Lower Camp Anand Parbat</td>\n",
       "      <td>New Delhi</td>\n",
       "      <td>28.6500</td>\n",
       "      <td>77.2000</td>\n",
       "      <td>NaN</td>\n",
       "    </tr>\n",
       "  </tbody>\n",
       "</table>\n",
       "</div>"
      ],
      "text/plain": [
       "         key               place_name admin_name1  latitude  longitude  \\\n",
       "0  IN/110001          Connaught Place   New Delhi   28.6333    77.2167   \n",
       "1  IN/110002               Darya Ganj   New Delhi   28.6333    77.2500   \n",
       "2  IN/110003                  Aliganj   New Delhi   28.6500    77.2167   \n",
       "3  IN/110004       Rashtrapati Bhawan   New Delhi   28.6500    77.2167   \n",
       "4  IN/110005  Lower Camp Anand Parbat   New Delhi   28.6500    77.2000   \n",
       "\n",
       "   accuracy  \n",
       "0       4.0  \n",
       "1       4.0  \n",
       "2       NaN  \n",
       "3       NaN  \n",
       "4       NaN  "
      ]
     },
     "execution_count": 2,
     "metadata": {},
     "output_type": "execute_result"
    }
   ],
   "source": [
    "delhi = pd.read_csv('in.csv')\n",
    "delhi.head()"
   ]
  },
  {
   "cell_type": "code",
   "execution_count": 3,
   "metadata": {},
   "outputs": [
    {
     "data": {
      "text/html": [
       "<div>\n",
       "<style scoped>\n",
       "    .dataframe tbody tr th:only-of-type {\n",
       "        vertical-align: middle;\n",
       "    }\n",
       "\n",
       "    .dataframe tbody tr th {\n",
       "        vertical-align: top;\n",
       "    }\n",
       "\n",
       "    .dataframe thead th {\n",
       "        text-align: right;\n",
       "    }\n",
       "</style>\n",
       "<table border=\"1\" class=\"dataframe\">\n",
       "  <thead>\n",
       "    <tr style=\"text-align: right;\">\n",
       "      <th></th>\n",
       "      <th>Pincode</th>\n",
       "      <th>Place Name</th>\n",
       "      <th>State</th>\n",
       "      <th>Latitude</th>\n",
       "      <th>Longitude</th>\n",
       "      <th>accuracy</th>\n",
       "    </tr>\n",
       "  </thead>\n",
       "  <tbody>\n",
       "    <tr>\n",
       "      <th>0</th>\n",
       "      <td>IN/110001</td>\n",
       "      <td>Connaught Place</td>\n",
       "      <td>New Delhi</td>\n",
       "      <td>28.6333</td>\n",
       "      <td>77.2167</td>\n",
       "      <td>4.0</td>\n",
       "    </tr>\n",
       "    <tr>\n",
       "      <th>1</th>\n",
       "      <td>IN/110002</td>\n",
       "      <td>Darya Ganj</td>\n",
       "      <td>New Delhi</td>\n",
       "      <td>28.6333</td>\n",
       "      <td>77.2500</td>\n",
       "      <td>4.0</td>\n",
       "    </tr>\n",
       "    <tr>\n",
       "      <th>2</th>\n",
       "      <td>IN/110003</td>\n",
       "      <td>Aliganj</td>\n",
       "      <td>New Delhi</td>\n",
       "      <td>28.6500</td>\n",
       "      <td>77.2167</td>\n",
       "      <td>NaN</td>\n",
       "    </tr>\n",
       "    <tr>\n",
       "      <th>3</th>\n",
       "      <td>IN/110004</td>\n",
       "      <td>Rashtrapati Bhawan</td>\n",
       "      <td>New Delhi</td>\n",
       "      <td>28.6500</td>\n",
       "      <td>77.2167</td>\n",
       "      <td>NaN</td>\n",
       "    </tr>\n",
       "    <tr>\n",
       "      <th>4</th>\n",
       "      <td>IN/110005</td>\n",
       "      <td>Lower Camp Anand Parbat</td>\n",
       "      <td>New Delhi</td>\n",
       "      <td>28.6500</td>\n",
       "      <td>77.2000</td>\n",
       "      <td>NaN</td>\n",
       "    </tr>\n",
       "  </tbody>\n",
       "</table>\n",
       "</div>"
      ],
      "text/plain": [
       "     Pincode               Place Name      State  Latitude  Longitude  \\\n",
       "0  IN/110001          Connaught Place  New Delhi   28.6333    77.2167   \n",
       "1  IN/110002               Darya Ganj  New Delhi   28.6333    77.2500   \n",
       "2  IN/110003                  Aliganj  New Delhi   28.6500    77.2167   \n",
       "3  IN/110004       Rashtrapati Bhawan  New Delhi   28.6500    77.2167   \n",
       "4  IN/110005  Lower Camp Anand Parbat  New Delhi   28.6500    77.2000   \n",
       "\n",
       "   accuracy  \n",
       "0       4.0  \n",
       "1       4.0  \n",
       "2       NaN  \n",
       "3       NaN  \n",
       "4       NaN  "
      ]
     },
     "execution_count": 3,
     "metadata": {},
     "output_type": "execute_result"
    }
   ],
   "source": [
    "lst=['Pincode', 'Place Name', 'State', 'Latitude', 'Longitude','accuracy']\n",
    "delhi.columns = lst\n",
    "delhi.head()"
   ]
  },
  {
   "cell_type": "code",
   "execution_count": 4,
   "metadata": {},
   "outputs": [
    {
     "data": {
      "text/html": [
       "<div>\n",
       "<style scoped>\n",
       "    .dataframe tbody tr th:only-of-type {\n",
       "        vertical-align: middle;\n",
       "    }\n",
       "\n",
       "    .dataframe tbody tr th {\n",
       "        vertical-align: top;\n",
       "    }\n",
       "\n",
       "    .dataframe thead th {\n",
       "        text-align: right;\n",
       "    }\n",
       "</style>\n",
       "<table border=\"1\" class=\"dataframe\">\n",
       "  <thead>\n",
       "    <tr style=\"text-align: right;\">\n",
       "      <th></th>\n",
       "      <th>Pincode</th>\n",
       "      <th>Place Name</th>\n",
       "      <th>State</th>\n",
       "      <th>Latitude</th>\n",
       "      <th>Longitude</th>\n",
       "      <th>accuracy</th>\n",
       "    </tr>\n",
       "  </thead>\n",
       "  <tbody>\n",
       "    <tr>\n",
       "      <th>0</th>\n",
       "      <td>IN/110001</td>\n",
       "      <td>Connaught Place</td>\n",
       "      <td>New Delhi</td>\n",
       "      <td>28.6333</td>\n",
       "      <td>77.2167</td>\n",
       "      <td>4.0</td>\n",
       "    </tr>\n",
       "    <tr>\n",
       "      <th>1</th>\n",
       "      <td>IN/110002</td>\n",
       "      <td>Darya Ganj</td>\n",
       "      <td>New Delhi</td>\n",
       "      <td>28.6333</td>\n",
       "      <td>77.2500</td>\n",
       "      <td>4.0</td>\n",
       "    </tr>\n",
       "    <tr>\n",
       "      <th>2</th>\n",
       "      <td>IN/110003</td>\n",
       "      <td>Aliganj</td>\n",
       "      <td>New Delhi</td>\n",
       "      <td>28.6500</td>\n",
       "      <td>77.2167</td>\n",
       "      <td>NaN</td>\n",
       "    </tr>\n",
       "    <tr>\n",
       "      <th>3</th>\n",
       "      <td>IN/110004</td>\n",
       "      <td>Rashtrapati Bhawan</td>\n",
       "      <td>New Delhi</td>\n",
       "      <td>28.6500</td>\n",
       "      <td>77.2167</td>\n",
       "      <td>NaN</td>\n",
       "    </tr>\n",
       "    <tr>\n",
       "      <th>4</th>\n",
       "      <td>IN/110005</td>\n",
       "      <td>Lower Camp Anand Parbat</td>\n",
       "      <td>New Delhi</td>\n",
       "      <td>28.6500</td>\n",
       "      <td>77.2000</td>\n",
       "      <td>NaN</td>\n",
       "    </tr>\n",
       "  </tbody>\n",
       "</table>\n",
       "</div>"
      ],
      "text/plain": [
       "     Pincode               Place Name      State  Latitude  Longitude  \\\n",
       "0  IN/110001          Connaught Place  New Delhi   28.6333    77.2167   \n",
       "1  IN/110002               Darya Ganj  New Delhi   28.6333    77.2500   \n",
       "2  IN/110003                  Aliganj  New Delhi   28.6500    77.2167   \n",
       "3  IN/110004       Rashtrapati Bhawan  New Delhi   28.6500    77.2167   \n",
       "4  IN/110005  Lower Camp Anand Parbat  New Delhi   28.6500    77.2000   \n",
       "\n",
       "   accuracy  \n",
       "0       4.0  \n",
       "1       4.0  \n",
       "2       NaN  \n",
       "3       NaN  \n",
       "4       NaN  "
      ]
     },
     "execution_count": 4,
     "metadata": {},
     "output_type": "execute_result"
    }
   ],
   "source": [
    "delhi = delhi[delhi['State']=='New Delhi'] \n",
    "delhi.head()"
   ]
  },
  {
   "cell_type": "code",
   "execution_count": 5,
   "metadata": {},
   "outputs": [
    {
     "data": {
      "text/html": [
       "<div>\n",
       "<style scoped>\n",
       "    .dataframe tbody tr th:only-of-type {\n",
       "        vertical-align: middle;\n",
       "    }\n",
       "\n",
       "    .dataframe tbody tr th {\n",
       "        vertical-align: top;\n",
       "    }\n",
       "\n",
       "    .dataframe thead th {\n",
       "        text-align: right;\n",
       "    }\n",
       "</style>\n",
       "<table border=\"1\" class=\"dataframe\">\n",
       "  <thead>\n",
       "    <tr style=\"text-align: right;\">\n",
       "      <th></th>\n",
       "      <th>Pincode</th>\n",
       "      <th>Place Name</th>\n",
       "      <th>Latitude</th>\n",
       "      <th>Longitude</th>\n",
       "      <th>State</th>\n",
       "    </tr>\n",
       "  </thead>\n",
       "  <tbody>\n",
       "    <tr>\n",
       "      <th>0</th>\n",
       "      <td>IN/110001</td>\n",
       "      <td>Connaught Place</td>\n",
       "      <td>28.6333</td>\n",
       "      <td>77.2167</td>\n",
       "      <td>New Delhi</td>\n",
       "    </tr>\n",
       "    <tr>\n",
       "      <th>1</th>\n",
       "      <td>IN/110002</td>\n",
       "      <td>Darya Ganj</td>\n",
       "      <td>28.6333</td>\n",
       "      <td>77.2500</td>\n",
       "      <td>New Delhi</td>\n",
       "    </tr>\n",
       "    <tr>\n",
       "      <th>2</th>\n",
       "      <td>IN/110003</td>\n",
       "      <td>Aliganj</td>\n",
       "      <td>28.6500</td>\n",
       "      <td>77.2167</td>\n",
       "      <td>New Delhi</td>\n",
       "    </tr>\n",
       "    <tr>\n",
       "      <th>3</th>\n",
       "      <td>IN/110004</td>\n",
       "      <td>Rashtrapati Bhawan</td>\n",
       "      <td>28.6500</td>\n",
       "      <td>77.2167</td>\n",
       "      <td>New Delhi</td>\n",
       "    </tr>\n",
       "    <tr>\n",
       "      <th>4</th>\n",
       "      <td>IN/110005</td>\n",
       "      <td>Lower Camp Anand Parbat</td>\n",
       "      <td>28.6500</td>\n",
       "      <td>77.2000</td>\n",
       "      <td>New Delhi</td>\n",
       "    </tr>\n",
       "  </tbody>\n",
       "</table>\n",
       "</div>"
      ],
      "text/plain": [
       "     Pincode               Place Name  Latitude  Longitude      State\n",
       "0  IN/110001          Connaught Place   28.6333    77.2167  New Delhi\n",
       "1  IN/110002               Darya Ganj   28.6333    77.2500  New Delhi\n",
       "2  IN/110003                  Aliganj   28.6500    77.2167  New Delhi\n",
       "3  IN/110004       Rashtrapati Bhawan   28.6500    77.2167  New Delhi\n",
       "4  IN/110005  Lower Camp Anand Parbat   28.6500    77.2000  New Delhi"
      ]
     },
     "execution_count": 5,
     "metadata": {},
     "output_type": "execute_result"
    }
   ],
   "source": [
    "delhi = delhi[['Pincode','Place Name', 'Latitude', 'Longitude','State']]\n",
    "delhi.head()"
   ]
  },
  {
   "cell_type": "code",
   "execution_count": 7,
   "metadata": {},
   "outputs": [
    {
     "data": {
      "text/plain": [
       "(79, 5)"
      ]
     },
     "execution_count": 7,
     "metadata": {},
     "output_type": "execute_result"
    }
   ],
   "source": [
    "delhi.shape"
   ]
  }
 ],
 "metadata": {
  "kernelspec": {
   "display_name": "Python",
   "language": "python",
   "name": "conda-env-python-py"
  },
  "language_info": {
   "codemirror_mode": {
    "name": "ipython",
    "version": 3
   },
   "file_extension": ".py",
   "mimetype": "text/x-python",
   "name": "python",
   "nbconvert_exporter": "python",
   "pygments_lexer": "ipython3",
   "version": "3.6.10"
  }
 },
 "nbformat": 4,
 "nbformat_minor": 4
}
